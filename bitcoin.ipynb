{
 "metadata": {
  "language_info": {
   "codemirror_mode": {
    "name": "ipython",
    "version": 3
   },
   "file_extension": ".py",
   "mimetype": "text/x-python",
   "name": "python",
   "nbconvert_exporter": "python",
   "pygments_lexer": "ipython3",
   "version": "3.6.6-final"
  },
  "orig_nbformat": 2,
  "kernelspec": {
   "name": "python3",
   "display_name": "Python 3",
   "language": "python"
  }
 },
 "nbformat": 4,
 "nbformat_minor": 2,
 "cells": [
  {
   "cell_type": "code",
   "execution_count": null,
   "metadata": {},
   "outputs": [],
   "source": [
    "import pandas as pd\n",
    "import numpy as np\n",
    "from alpha_vantage.cryptocurrencies import CryptoCurrencies\n",
    "from sklearn.preprocessing import StandardScaler\n",
    "from sklearn.utils import shuffle\n",
    "import tensorflow as tf\n",
    "from tensorflow.keras.models import Model\n",
    "from tensorflow.keras.layers import Input, Dense, LSTM\n",
    "import matplotlib.pyplot as plt\n",
    "import requests"
   ]
  },
  {
   "cell_type": "code",
   "execution_count": null,
   "metadata": {},
   "outputs": [],
   "source": [
    "AlphaVantage_api_key = \"INSERT-YOUR-API-KEY-HERE\"\n",
    "cc = CryptoCurrencies(key=AlphaVantage_api_key, output_format='pandas')\n",
    "\n",
    "# get data\n",
    "df, meta_data = cc.get_digital_currency_daily(symbol='BTC', market='USD')\n",
    "\n",
    "# prep column names, index etc.\n",
    "cols = ['1a. open (USD)', '2a. high (USD)', '3a. low (USD)', '4a. close (USD)', '5. volume']\n",
    "df.index = pd.to_datetime(df.index)\n",
    "df = df[cols].sort_index()\n",
    "df.columns = ['open', 'high', 'low', 'close', 'vol']"
   ]
  },
  {
   "cell_type": "code",
   "execution_count": null,
   "metadata": {},
   "outputs": [],
   "source": [
    "# WYKRES\n",
    "df[['open', 'high', 'low', 'close']].plot()\n",
    "ax = df['vol'].plot(secondary_y=True, legend=True)\n",
    "ax.set_ylabel('vol')"
   ]
  },
  {
   "cell_type": "code",
   "execution_count": null,
   "metadata": {},
   "outputs": [],
   "source": [
    "# WYKRES - pojedyncza probka danych\n",
    "df[['open', 'high', 'low', 'close']][100:101].plot(style='o')\n",
    "ax = df['vol'][100:101].plot(secondary_y=True, style='o', legend=True)\n",
    "ax.set_ylabel('vol')"
   ]
  },
  {
   "cell_type": "code",
   "execution_count": null,
   "metadata": {},
   "outputs": [],
   "source": [
    "# ROLLINg WINDOW\n",
    "window_size = 30\n",
    "for i in range (0,25,5):\n",
    "    df[['open', 'high', 'low', 'close']][i:i+window_size].plot(ylim=[5750,8000], title='start date:' + str(df.index[i].date()))\n",
    "    ax = df['vol'][i:i+window_size].plot(secondary_y=True, legend=True)\n",
    "    ax.set_ylabel('vol')\n",
    "    ax.figure.savefig('rolling_window_' + str(i) + '.png')"
   ]
  },
  {
   "cell_type": "code",
   "execution_count": null,
   "metadata": {},
   "outputs": [],
   "source": [
    "df.shape"
   ]
  },
  {
   "cell_type": "code",
   "execution_count": null,
   "metadata": {},
   "outputs": [],
   "source": [
    "test_size = 100 \n",
    "\n",
    "# (1) dane stacjonarne\n",
    "df_pct = df.pct_change()[1:]\n",
    "\n",
    "# (2) Y\n",
    "y = df['close'].pct_change().shift(periods=-1).fillna(0)[1:]\n",
    "\n",
    "# (3) Normalizacja\n",
    "scaler_df = StandardScaler() \n",
    "\n",
    "#budujuemy scaler na danych TRAIN only\n",
    "scaler_df.fit_transform(df_pct[:-test_size])\n",
    "\n",
    "#aplikujemy skaler na dane\n",
    "x_normalized = scaler_df.transform(df_pct)"
   ]
  },
  {
   "cell_type": "code",
   "execution_count": null,
   "metadata": {},
   "outputs": [],
   "source": [
    "# (4) create rolling window\n",
    "n, feat = np.shape(x_normalized)\n",
    "# declare new x\n",
    "x_ts = np.zeros((n-window_size,window_size,feat))\n",
    "# create time series\n",
    "for i in range(window_size,n):\n",
    "    x_ts[i-window_size] = x_normalized[i-window_size+1:i+1]\n",
    "x_ts.shape"
   ]
  },
  {
   "cell_type": "code",
   "execution_count": null,
   "metadata": {},
   "outputs": [],
   "source": [
    "#wykres ostatniej próbki danych\n",
    "fig, ax1 = plt.subplots()\n",
    "ax2 = ax1.twinx()\n",
    "ax1.plot(x_ts[-1,:,:4])\n",
    "ax2.plot(x_ts[-1,:,4])\n",
    "ax1.set_ylabel('$')\n",
    "ax2.set_ylabel('vol')\n",
    "ax1.legend(df.columns[:4], loc=2)\n",
    "ax2.legend(df.columns[4], loc=1)\n",
    "plt.show()"
   ]
  },
  {
   "cell_type": "code",
   "execution_count": null,
   "metadata": {},
   "outputs": [],
   "source": [
    "# (5) Podzial TRAIN/TEST\n",
    "x_train = x_ts[:-test_size]\n",
    "x_test = x_ts[-test_size:]\n",
    "\n",
    "y_train = y[window_size:-test_size]\n",
    "y_test = y[-test_size:]\n",
    "\n",
    "assert(len(x_train)==len(y_train))\n",
    "assert(len(x_test)==len(y_test))\n",
    "\n",
    "# (6) Mieszanie próbek TRAIN\n",
    "x_train, y_train = shuffle(x_train, y_train, random_state=0)"
   ]
  },
  {
   "cell_type": "code",
   "execution_count": null,
   "metadata": {},
   "outputs": [],
   "source": [
    "# (7a) definicja modelu\n",
    "def my_model(feat, window_size):\n",
    "    \n",
    "    x_input = Input(shape = (window_size,feat))\n",
    "    \n",
    "    x = LSTM(20, name='lstm')(x_input)\n",
    "    x = Dense(20, name='dense')(x)\n",
    "    x_output = Dense(1, activation='linear', name='out')(x)\n",
    "\n",
    "    model = Model(inputs = x_input, outputs = x_output, name='way2becomefcknrich')\n",
    "    \n",
    "    return model"
   ]
  },
  {
   "cell_type": "code",
   "execution_count": null,
   "metadata": {},
   "outputs": [],
   "source": [
    "# (7) Uczenie sieci na danych TRAIN\n",
    "#num features\n",
    "_, window_size, feat = np.shape(x_train)\n",
    "\n",
    "model = my_model(feat, window_size)\n",
    "model.compile(loss='mean_squared_error')\n",
    "model.summary()\n",
    "\n",
    "model.fit(x_train, y_train, epochs=20)"
   ]
  },
  {
   "cell_type": "code",
   "execution_count": null,
   "metadata": {},
   "outputs": [],
   "source": [
    "# (8) Predykcja dla TEST\n",
    "y_predicted = model.predict(x_test)\n",
    "\n",
    "df_pred = pd.concat([y_test, pd.DataFrame(y_predicted, index=y_test.index, columns=['prediction'])], axis=1)\n",
    "df_pred[df_pred.index>'2021-01-01'].plot(grid=True)\n",
    "\n",
    "# (9) Wypłata zarobionej gotówki\n",
    "mask = np.sign(df_pred['close']) == np.sign(df_pred['prediction'])\n",
    "acc = np.sum(mask) / len(df_pred)\n",
    "display(acc)\n",
    "\n",
    "trans_positive = df_pred['close'][mask].abs()\n",
    "trans_loss = df_pred['close'][~mask].abs()\n",
    "\n",
    "print('accuracy:%.2f%% trans_positive:%.2f%% trans_loss:%.2f%%' %(100*acc, 100*trans_positive.sum(), 100*trans_loss.sum()))\n",
    "print('zarobek netto:%.2f%%' %(100*trans_positive.sum() - 100*trans_loss.sum()))"
   ]
  },
  {
   "cell_type": "code",
   "execution_count": null,
   "metadata": {},
   "outputs": [],
   "source": [
    "#to samo dla CDPROJEKT. Dane z https://www.gpw.pl/archiwum-notowan\n",
    "df = pd.read_excel('cdprojekt.xls', index_col=0)\n",
    "df = df[['Kurs otwarcia',\t'Kurs max',\t'Kurs min',\t'Kurs zamknięcia',\t'Wolumen']]\n",
    "df.columns = ['open', 'high', 'low', 'close', 'vol']"
   ]
  },
  {
   "cell_type": "code",
   "execution_count": null,
   "metadata": {},
   "outputs": [],
   "source": [
    "#wszystkie kroki w jednej funkcji\n",
    "def do_magic(df_in, window_size = 30, test_size = 100, n_epochs = 100):\n",
    "    # (1) dane stacjonarne\n",
    "    df_pct = df_in.pct_change()[1:]\n",
    "\n",
    "    # (2) Y\n",
    "    y = df_in['close'].pct_change().shift(periods=-1).fillna(0)[1:]\n",
    "\n",
    "    # (3) Normalizacja\n",
    "    scaler_df = StandardScaler() \n",
    "\n",
    "    #budujuemy scaler na danych TRAIN only\n",
    "    scaler_df.fit_transform(df_pct[:-test_size])\n",
    "\n",
    "    #aplikujemy skaler na dane\n",
    "    x_normalized = scaler_df.transform(df_pct)\n",
    "\n",
    "\n",
    "    # (4) create rolling window\n",
    "    n, feat = np.shape(x_normalized)\n",
    "    # declare new x\n",
    "    x_ts = np.zeros((n-window_size,window_size,feat))\n",
    "    # create time series\n",
    "    for i in range(window_size,n):\n",
    "        x_ts[i-window_size] = x_normalized[i-window_size+1:i+1]\n",
    "\n",
    "\n",
    "    # (5) Podzial TRAIN/TEST\n",
    "    x_train = x_ts[:-test_size]\n",
    "    x_test = x_ts[-test_size:]\n",
    "\n",
    "    y_train = y[window_size:-test_size]\n",
    "    y_test = y[-test_size:]\n",
    "\n",
    "    assert(len(x_train)==len(y_train))\n",
    "    assert(len(x_test)==len(y_test))\n",
    "\n",
    "    \n",
    "    # (6) Mieszanie próbek TRAIN\n",
    "    x_train, y_train = shuffle(x_train, y_train, random_state=0)\n",
    "\n",
    "    \n",
    "    # (7) Uczenie sieci na danych TRAIN\n",
    "    _, window_size, feat = np.shape(x_train)\n",
    "\n",
    "    model = my_model(feat, window_size)\n",
    "    model.compile(loss='mean_squared_error')\n",
    "    #model.summary()\n",
    "\n",
    "    model.fit(x_train, y_train, epochs=n_epochs, verbose=False)\n",
    "\n",
    "    \n",
    "    # (8) Predykcja dla TEST\n",
    "    y_predicted = model.predict(x_test)\n",
    "\n",
    "    df_pred = pd.concat([y_test, pd.DataFrame(y_predicted, index=y_test.index, columns=['prediction'])], axis=1)\n",
    "    df_pred[df_pred.index>'2021-01-01'].plot(grid=True)\n",
    "\n",
    "\n",
    "    # (9) Wypłata zarobionej gotówki\n",
    "    mask = np.sign(df_pred['close']) == np.sign(df_pred['prediction'])\n",
    "    acc = np.sum(mask) / len(df_pred)\n",
    "    #transakcje zarobione/stratne\n",
    "    trans_positive = df_pred['close'][mask].abs()\n",
    "    trans_loss = df_pred['close'][~mask].abs()\n",
    "    #transkacje long/short\n",
    "    mask_long = np.sign(df_pred['prediction']) > 0\n",
    "    gain_long = df_pred['close'][mask_long].sum()\n",
    "    gain_short = df_pred['close'][~mask_long].sum()\n",
    "\n",
    "    print('accuracy:%.2f%% trans_positive:%.2f%% trans_loss:%.2f%%' %(100*acc, 100*trans_positive.sum(), 100*trans_loss.sum()))\n",
    "    print('zarobek netto:%.2f%%' %(100*trans_positive.sum() - 100*trans_loss.sum()))\n",
    "    print('\\tz czego long_gain:%.2f%% short_gain:%.2f%%' %(100*gain_long, -100*gain_short))"
   ]
  },
  {
   "cell_type": "code",
   "execution_count": null,
   "metadata": {},
   "outputs": [],
   "source": [
    "#train/predict w 1 kroku\n",
    "do_magic(df, window_size = 30, test_size = 100, n_epochs = 20)"
   ]
  }
 ]
}